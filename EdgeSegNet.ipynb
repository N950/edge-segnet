{
  "nbformat": 4,
  "nbformat_minor": 0,
  "metadata": {
    "colab": {
      "name": "EdgeSegNet.ipynb",
      "provenance": [],
      "collapsed_sections": []
    },
    "kernelspec": {
      "name": "python3",
      "display_name": "Python 3"
    },
    "accelerator": "GPU"
  },
  "cells": [
    {
      "cell_type": "code",
      "metadata": {
        "id": "vZhyUGEtUcF3"
      },
      "source": [
        "import torch\r\n",
        "import torch.nn as nn\r\n",
        "import numpy as np\r\n",
        "import cv2\r\n",
        "\r\n",
        "import matplotlib.pyplot as plt\r\n",
        "%matplotlib inline\r\n",
        "\r\n",
        "from scipy.signal import savgol_filter\r\n",
        "\r\n",
        "from PIL import Image\r\n",
        "import tqdm"
      ],
      "execution_count": 18,
      "outputs": []
    },
    {
      "cell_type": "code",
      "metadata": {
        "id": "tojwDyxPq3ZE"
      },
      "source": [
        "segmentation_classes_colors = np.array([[64, 128, 64],[192, 0, 128],[0, 128, 192],[0, 128, 64],[128, 0, 0],[64, 0, 128],[64, 0, 192],[192, 128, 64],[192, 192, 128],[64, 64, 128],[128, 0, 192],[192, 0, 64],[128, 128, 64],[192, 0, 192],[128, 64, 64],[64, 192, 128],[64, 64, 0],\t[128, 64, 128],[128, 128, 192],[0, 0, 192],\t[192, 128, 128],[128, 128, 128],[64, 128, 192],[0, 0, 64],[0, 64, 64],[192, 64, 128],[128, 128, 0],[192, 128, 192],[64, 0, 64],[192, 192, 0],[0, 0, 0],[64, 192, 0]])"
      ],
      "execution_count": 19,
      "outputs": []
    },
    {
      "cell_type": "code",
      "metadata": {
        "colab": {
          "base_uri": "https://localhost:8080/"
        },
        "id": "wEmI1R_KrHJL",
        "outputId": "43b52427-bbbb-4e26-9eed-d56fcaf5c832"
      },
      "source": [
        "print(\"32 Colors for 32 Classes\")\r\n",
        "segmentation_classes_colors.shape"
      ],
      "execution_count": 20,
      "outputs": [
        {
          "output_type": "stream",
          "text": [
            "32 Colors for 32 Classes\n"
          ],
          "name": "stdout"
        },
        {
          "output_type": "execute_result",
          "data": {
            "text/plain": [
              "(32, 3)"
            ]
          },
          "metadata": {
            "tags": []
          },
          "execution_count": 20
        }
      ]
    },
    {
      "cell_type": "code",
      "metadata": {
        "colab": {
          "base_uri": "https://localhost:8080/"
        },
        "id": "HcLIrVvauBnH",
        "outputId": "37b9b8b2-8757-4a5f-8e76-afe027c43c08"
      },
      "source": [
        "use_cuda = torch.cuda.is_available()\r\n",
        "device = torch.device(\"cuda\" if use_cuda else \"cpu\")\r\n",
        "dtype_device = torch.cuda.FloatTensor if device.type == 'cuda' else torch.FloatTensor\r\n",
        "device"
      ],
      "execution_count": 21,
      "outputs": [
        {
          "output_type": "execute_result",
          "data": {
            "text/plain": [
              "device(type='cuda')"
            ]
          },
          "metadata": {
            "tags": []
          },
          "execution_count": 21
        }
      ]
    },
    {
      "cell_type": "code",
      "metadata": {
        "colab": {
          "base_uri": "https://localhost:8080/"
        },
        "id": "1AeIhiHHDAbf",
        "outputId": "7ce50433-190d-4e38-dfab-ad2ff12fb849"
      },
      "source": [
        "!wget http://mi.eng.cam.ac.uk/research/projects/VideoRec/CamSeq01/CamSeq01.zip"
      ],
      "execution_count": 22,
      "outputs": [
        {
          "output_type": "stream",
          "text": [
            "--2021-02-12 16:06:40--  http://mi.eng.cam.ac.uk/research/projects/VideoRec/CamSeq01/CamSeq01.zip\n",
            "Resolving mi.eng.cam.ac.uk (mi.eng.cam.ac.uk)... 129.169.82.147\n",
            "Connecting to mi.eng.cam.ac.uk (mi.eng.cam.ac.uk)|129.169.82.147|:80... connected.\n",
            "HTTP request sent, awaiting response... 200 OK\n",
            "Length: 94535380 (90M) [application/zip]\n",
            "Saving to: ‘CamSeq01.zip.1’\n",
            "\n",
            "CamSeq01.zip.1      100%[===================>]  90.16M  53.2MB/s    in 1.7s    \n",
            "\n",
            "2021-02-12 16:06:42 (53.2 MB/s) - ‘CamSeq01.zip.1’ saved [94535380/94535380]\n",
            "\n"
          ],
          "name": "stdout"
        }
      ]
    },
    {
      "cell_type": "code",
      "metadata": {
        "colab": {
          "base_uri": "https://localhost:8080/"
        },
        "id": "RZkj0PJcDQQu",
        "outputId": "bba23b18-242e-48ec-d662-bc27e5301dcb"
      },
      "source": [
        "!unzip CamSeq01.zip -d CamSeq01"
      ],
      "execution_count": 23,
      "outputs": [
        {
          "output_type": "stream",
          "text": [
            "Archive:  CamSeq01.zip\n",
            "  inflating: CamSeq01/0016E5_07977_L.png  \n",
            "  inflating: CamSeq01/0016E5_07979_L.png  \n",
            "  inflating: CamSeq01/0016E5_07981_L.png  \n",
            "  inflating: CamSeq01/0016E5_07983_L.png  \n",
            "  inflating: CamSeq01/0016E5_07985_L.png  \n",
            "  inflating: CamSeq01/0016E5_07987_L.png  \n",
            "  inflating: CamSeq01/0016E5_07989_L.png  \n",
            "  inflating: CamSeq01/0016E5_07991_L.png  \n",
            "  inflating: CamSeq01/0016E5_07993_L.png  \n",
            "  inflating: CamSeq01/0016E5_07995_L.png  \n",
            "  inflating: CamSeq01/0016E5_07997_L.png  \n",
            "  inflating: CamSeq01/0016E5_07999_L.png  \n",
            "  inflating: CamSeq01/0016E5_08001_L.png  \n",
            "  inflating: CamSeq01/0016E5_08003_L.png  \n",
            "  inflating: CamSeq01/0016E5_08005_L.png  \n",
            "  inflating: CamSeq01/0016E5_08007_L.png  \n",
            "  inflating: CamSeq01/0016E5_08009_L.png  \n",
            "  inflating: CamSeq01/0016E5_08011_L.png  \n",
            "  inflating: CamSeq01/0016E5_08013_L.png  \n",
            "  inflating: CamSeq01/0016E5_08015_L.png  \n",
            "  inflating: CamSeq01/0016E5_08017_L.png  \n",
            "  inflating: CamSeq01/0016E5_08019_L.png  \n",
            "  inflating: CamSeq01/0016E5_08021_L.png  \n",
            "  inflating: CamSeq01/0016E5_08023_L.png  \n",
            "  inflating: CamSeq01/0016E5_08025_L.png  \n",
            "  inflating: CamSeq01/0016E5_08027_L.png  \n",
            "  inflating: CamSeq01/0016E5_08029_L.png  \n",
            "  inflating: CamSeq01/0016E5_08031_L.png  \n",
            "  inflating: CamSeq01/0016E5_08033_L.png  \n",
            "  inflating: CamSeq01/0016E5_08035_L.png  \n",
            "  inflating: CamSeq01/0016E5_08037_L.png  \n",
            "  inflating: CamSeq01/0016E5_08039_L.png  \n",
            "  inflating: CamSeq01/0016E5_08041_L.png  \n",
            "  inflating: CamSeq01/0016E5_08043_L.png  \n",
            "  inflating: CamSeq01/0016E5_08045_L.png  \n",
            "  inflating: CamSeq01/0016E5_08047_L.png  \n",
            "  inflating: CamSeq01/0016E5_08049_L.png  \n",
            "  inflating: CamSeq01/0016E5_08051_L.png  \n",
            "  inflating: CamSeq01/0016E5_08053_L.png  \n",
            "  inflating: CamSeq01/0016E5_08055_L.png  \n",
            "  inflating: CamSeq01/0016E5_08057_L.png  \n",
            "  inflating: CamSeq01/0016E5_08059_L.png  \n",
            "  inflating: CamSeq01/0016E5_08061_L.png  \n",
            "  inflating: CamSeq01/0016E5_08063_L.png  \n",
            "  inflating: CamSeq01/0016E5_08065_L.png  \n",
            "  inflating: CamSeq01/0016E5_08067_L.png  \n",
            "  inflating: CamSeq01/0016E5_08069_L.png  \n",
            "  inflating: CamSeq01/0016E5_08071_L.png  \n",
            "  inflating: CamSeq01/0016E5_08073_L.png  \n",
            "  inflating: CamSeq01/0016E5_08075_L.png  \n",
            "  inflating: CamSeq01/0016E5_08077_L.png  \n",
            "  inflating: CamSeq01/0016E5_08079_L.png  \n",
            "  inflating: CamSeq01/0016E5_08081_L.png  \n",
            "  inflating: CamSeq01/0016E5_08083_L.png  \n",
            "  inflating: CamSeq01/0016E5_08085_L.png  \n",
            "  inflating: CamSeq01/0016E5_08087_L.png  \n",
            "  inflating: CamSeq01/0016E5_08089_L.png  \n",
            "  inflating: CamSeq01/0016E5_08091_L.png  \n",
            "  inflating: CamSeq01/0016E5_08093_L.png  \n",
            "  inflating: CamSeq01/0016E5_08095_L.png  \n",
            "  inflating: CamSeq01/0016E5_08097_L.png  \n",
            "  inflating: CamSeq01/0016E5_08099_L.png  \n",
            "  inflating: CamSeq01/0016E5_08101_L.png  \n",
            "  inflating: CamSeq01/0016E5_08103_L.png  \n",
            "  inflating: CamSeq01/0016E5_08105_L.png  \n",
            "  inflating: CamSeq01/0016E5_08107_L.png  \n",
            "  inflating: CamSeq01/0016E5_08109_L.png  \n",
            "  inflating: CamSeq01/0016E5_08111_L.png  \n",
            "  inflating: CamSeq01/0016E5_08113_L.png  \n",
            "  inflating: CamSeq01/0016E5_08115_L.png  \n",
            "  inflating: CamSeq01/0016E5_08117_L.png  \n",
            "  inflating: CamSeq01/0016E5_08119_L.png  \n",
            "  inflating: CamSeq01/0016E5_08121_L.png  \n",
            "  inflating: CamSeq01/0016E5_08123_L.png  \n",
            "  inflating: CamSeq01/0016E5_08125_L.png  \n",
            "  inflating: CamSeq01/0016E5_08127_L.png  \n",
            "  inflating: CamSeq01/0016E5_08129_L.png  \n",
            "  inflating: CamSeq01/0016E5_08131_L.png  \n",
            "  inflating: CamSeq01/0016E5_08133_L.png  \n",
            "  inflating: CamSeq01/0016E5_08135_L.png  \n",
            "  inflating: CamSeq01/0016E5_08137_L.png  \n",
            "  inflating: CamSeq01/0016E5_08139_L.png  \n",
            "  inflating: CamSeq01/0016E5_08141_L.png  \n",
            "  inflating: CamSeq01/0016E5_08143_L.png  \n",
            "  inflating: CamSeq01/0016E5_08145_L.png  \n",
            "  inflating: CamSeq01/0016E5_08147_L.png  \n",
            "  inflating: CamSeq01/0016E5_08149_L.png  \n",
            "  inflating: CamSeq01/0016E5_08151_L.png  \n",
            "  inflating: CamSeq01/0016E5_08153_L.png  \n",
            "  inflating: CamSeq01/0016E5_08155_L.png  \n",
            "  inflating: CamSeq01/0016E5_08157_L.png  \n",
            "  inflating: CamSeq01/0016E5_08159_L.png  \n",
            "  inflating: CamSeq01/0016E5_07959_L.png  \n",
            "  inflating: CamSeq01/0016E5_07961_L.png  \n",
            "  inflating: CamSeq01/0016E5_07963_L.png  \n",
            "  inflating: CamSeq01/0016E5_07965_L.png  \n",
            "  inflating: CamSeq01/0016E5_07967_L.png  \n",
            "  inflating: CamSeq01/0016E5_07969_L.png  \n",
            "  inflating: CamSeq01/0016E5_07971_L.png  \n",
            "  inflating: CamSeq01/0016E5_07973_L.png  \n",
            "  inflating: CamSeq01/0016E5_07975_L.png  \n",
            "  inflating: CamSeq01/0016E5_08157.png  \n",
            "  inflating: CamSeq01/0016E5_08155.png  \n",
            "  inflating: CamSeq01/0016E5_08153.png  \n",
            "  inflating: CamSeq01/0016E5_08151.png  \n",
            "  inflating: CamSeq01/0016E5_08149.png  \n",
            "  inflating: CamSeq01/0016E5_08147.png  \n",
            "  inflating: CamSeq01/0016E5_08145.png  \n",
            "  inflating: CamSeq01/0016E5_08143.png  \n",
            "  inflating: CamSeq01/0016E5_08141.png  \n",
            "  inflating: CamSeq01/0016E5_08139.png  \n",
            "  inflating: CamSeq01/0016E5_08137.png  \n",
            "  inflating: CamSeq01/0016E5_08135.png  \n",
            "  inflating: CamSeq01/0016E5_08133.png  \n",
            "  inflating: CamSeq01/0016E5_08131.png  \n",
            "  inflating: CamSeq01/0016E5_08129.png  \n",
            "  inflating: CamSeq01/0016E5_08127.png  \n",
            "  inflating: CamSeq01/0016E5_08125.png  \n",
            "  inflating: CamSeq01/0016E5_08123.png  \n",
            "  inflating: CamSeq01/0016E5_08121.png  \n",
            "  inflating: CamSeq01/0016E5_08119.png  \n",
            "  inflating: CamSeq01/0016E5_08117.png  \n",
            "  inflating: CamSeq01/0016E5_08115.png  \n",
            "  inflating: CamSeq01/0016E5_08113.png  \n",
            "  inflating: CamSeq01/0016E5_08111.png  \n",
            "  inflating: CamSeq01/0016E5_08109.png  \n",
            "  inflating: CamSeq01/0016E5_08107.png  \n",
            "  inflating: CamSeq01/0016E5_08105.png  \n",
            "  inflating: CamSeq01/0016E5_08103.png  \n",
            "  inflating: CamSeq01/0016E5_08101.png  \n",
            "  inflating: CamSeq01/0016E5_08099.png  \n",
            "  inflating: CamSeq01/0016E5_08097.png  \n",
            "  inflating: CamSeq01/0016E5_08095.png  \n",
            "  inflating: CamSeq01/0016E5_08093.png  \n",
            "  inflating: CamSeq01/0016E5_08091.png  \n",
            "  inflating: CamSeq01/0016E5_08089.png  \n",
            "  inflating: CamSeq01/0016E5_08087.png  \n",
            "  inflating: CamSeq01/0016E5_08085.png  \n",
            "  inflating: CamSeq01/0016E5_08083.png  \n",
            "  inflating: CamSeq01/0016E5_08081.png  \n",
            "  inflating: CamSeq01/0016E5_08079.png  \n",
            "  inflating: CamSeq01/0016E5_08077.png  \n",
            "  inflating: CamSeq01/0016E5_08075.png  \n",
            "  inflating: CamSeq01/0016E5_08073.png  \n",
            "  inflating: CamSeq01/0016E5_08071.png  \n",
            "  inflating: CamSeq01/0016E5_08069.png  \n",
            "  inflating: CamSeq01/0016E5_08067.png  \n",
            "  inflating: CamSeq01/0016E5_08065.png  \n",
            "  inflating: CamSeq01/0016E5_08063.png  \n",
            "  inflating: CamSeq01/0016E5_08061.png  \n",
            "  inflating: CamSeq01/0016E5_08059.png  \n",
            "  inflating: CamSeq01/0016E5_08057.png  \n",
            "  inflating: CamSeq01/0016E5_08055.png  \n",
            "  inflating: CamSeq01/0016E5_08053.png  \n",
            "  inflating: CamSeq01/0016E5_08051.png  \n",
            "  inflating: CamSeq01/0016E5_08049.png  \n",
            "  inflating: CamSeq01/0016E5_08047.png  \n",
            "  inflating: CamSeq01/0016E5_08045.png  \n",
            "  inflating: CamSeq01/0016E5_08043.png  \n",
            "  inflating: CamSeq01/0016E5_08041.png  \n",
            "  inflating: CamSeq01/0016E5_08039.png  \n",
            "  inflating: CamSeq01/0016E5_08037.png  \n",
            "  inflating: CamSeq01/0016E5_08035.png  \n",
            "  inflating: CamSeq01/0016E5_08033.png  \n",
            "  inflating: CamSeq01/0016E5_08031.png  \n",
            "  inflating: CamSeq01/0016E5_08029.png  \n",
            "  inflating: CamSeq01/0016E5_08027.png  \n",
            "  inflating: CamSeq01/0016E5_08025.png  \n",
            "  inflating: CamSeq01/0016E5_08023.png  \n",
            "  inflating: CamSeq01/0016E5_08021.png  \n",
            "  inflating: CamSeq01/0016E5_08019.png  \n",
            "  inflating: CamSeq01/0016E5_08017.png  \n",
            "  inflating: CamSeq01/0016E5_08015.png  \n",
            "  inflating: CamSeq01/0016E5_08013.png  \n",
            "  inflating: CamSeq01/0016E5_08011.png  \n",
            "  inflating: CamSeq01/0016E5_08009.png  \n",
            "  inflating: CamSeq01/0016E5_08007.png  \n",
            "  inflating: CamSeq01/0016E5_08005.png  \n",
            "  inflating: CamSeq01/0016E5_08003.png  \n",
            "  inflating: CamSeq01/0016E5_08001.png  \n",
            "  inflating: CamSeq01/0016E5_07999.png  \n",
            "  inflating: CamSeq01/0016E5_07997.png  \n",
            "  inflating: CamSeq01/0016E5_07995.png  \n",
            "  inflating: CamSeq01/0016E5_07993.png  \n",
            "  inflating: CamSeq01/0016E5_07991.png  \n",
            "  inflating: CamSeq01/0016E5_07989.png  \n",
            "  inflating: CamSeq01/0016E5_07987.png  \n",
            "  inflating: CamSeq01/0016E5_07985.png  \n",
            "  inflating: CamSeq01/0016E5_07983.png  \n",
            "  inflating: CamSeq01/0016E5_07981.png  \n",
            "  inflating: CamSeq01/0016E5_07979.png  \n",
            "  inflating: CamSeq01/0016E5_07977.png  \n",
            "  inflating: CamSeq01/0016E5_07975.png  \n",
            "  inflating: CamSeq01/0016E5_07973.png  \n",
            "  inflating: CamSeq01/0016E5_07971.png  \n",
            "  inflating: CamSeq01/0016E5_07969.png  \n",
            "  inflating: CamSeq01/0016E5_07967.png  \n",
            "  inflating: CamSeq01/0016E5_07965.png  \n",
            "  inflating: CamSeq01/0016E5_07963.png  \n",
            "  inflating: CamSeq01/0016E5_07961.png  \n",
            "  inflating: CamSeq01/0016E5_07959.png  \n",
            "  inflating: CamSeq01/0016E5_08159.png  \n",
            "replace CamSeq01/label_colors.txt? [y]es, [n]o, [A]ll, [N]one, [r]ename: A\n",
            "  inflating: CamSeq01/label_colors.txt  \n",
            "  inflating: CamSeq01/readme.txt     \n"
          ],
          "name": "stdout"
        }
      ]
    },
    {
      "cell_type": "code",
      "metadata": {
        "id": "jp78fvrOjzLu",
        "colab": {
          "base_uri": "https://localhost:8080/"
        },
        "outputId": "50cfdf38-8b70-4ea9-ba26-cc1b5af9ba4e"
      },
      "source": [
        "!mkdir CamSeq01/image CamSeq01/mask"
      ],
      "execution_count": 24,
      "outputs": [
        {
          "output_type": "stream",
          "text": [
            "mkdir: cannot create directory ‘CamSeq01/image’: File exists\n",
            "mkdir: cannot create directory ‘CamSeq01/mask’: File exists\n"
          ],
          "name": "stdout"
        }
      ]
    },
    {
      "cell_type": "markdown",
      "metadata": {
        "id": "WCmTs-zk-dHD"
      },
      "source": [
        "# Seperate folders \r\n",
        "images : original <br>\r\n",
        "masks : segmented"
      ]
    },
    {
      "cell_type": "code",
      "metadata": {
        "id": "yspjv1fJj8rh"
      },
      "source": [
        "!mv ./CamSeq01/*_L.png ./CamSeq01/mask/"
      ],
      "execution_count": 25,
      "outputs": []
    },
    {
      "cell_type": "code",
      "metadata": {
        "id": "T336Mco7K_o0"
      },
      "source": [
        "!mv ./CamSeq01/*.png ./CamSeq01/image/"
      ],
      "execution_count": 26,
      "outputs": []
    },
    {
      "cell_type": "code",
      "metadata": {
        "id": "diCwuPe9KzxJ"
      },
      "source": [
        "import torch.utils.data as data\r\n",
        "import glob\r\n",
        "import os\r\n",
        "\r\n",
        "class CamSeqDataset(data.Dataset):\r\n",
        "    def __init__(self, folder_path):\r\n",
        "        super(CamSeqDataset, self).__init__()\r\n",
        "        self.img_files = glob.glob(os.path.join(folder_path,'image','*.png'))\r\n",
        "\r\n",
        "        self.imgs = []\r\n",
        "        self.mask_files = []\r\n",
        "        self.masks = []\r\n",
        "        for img_path in self.img_files:\r\n",
        "            self.mask_files.append(os.path.join(folder_path,'mask',os.path.basename(img_path.replace(\".png\",\"_L.png\")))) \r\n",
        "            \r\n",
        "            image = cv2.imread(img_path)\r\n",
        "            label = cv2.imread(self.mask_files[-1])\r\n",
        "            image = cv2.resize(image, (256, 256), interpolation=cv2.INTER_AREA)\r\n",
        "            label = cv2.resize(label, (256, 256), interpolation=cv2.INTER_AREA)\r\n",
        "            n_classes = 32\r\n",
        "            one_hot_label = np.zeros((256, 256, n_classes))\r\n",
        "            for i, class_color in enumerate(segmentation_classes_colors):\r\n",
        "\r\n",
        "                # Close colors pixels, no need for 3 channel dim since it's either 3 True, or 3 False \r\n",
        "                # and we need (256, 256) bool array for slicing one_hot \r\n",
        "                class_pixels = np.isclose(label[:,:,:3], class_color, rtol=0, atol=20)[:,:,0]\r\n",
        "                one_hot_label[:, :, i][class_pixels] = 1\r\n",
        "            \r\n",
        "            self.imgs.append(image)\r\n",
        "            self.masks.append(one_hot_label)\r\n",
        "\r\n",
        "    def __getitem__(self, index):\r\n",
        "\r\n",
        "        image = self.imgs[index]\r\n",
        "        label = self.masks[index]\r\n",
        "        \r\n",
        "        image = torch.from_numpy(image).float().permute(2,0,1).to(device)\r\n",
        "        label = torch.from_numpy(label).float().permute(2,0,1).to(device)\r\n",
        "        return image, label \r\n",
        "\r\n",
        "    def __len__(self):\r\n",
        "        return len(self.img_files)"
      ],
      "execution_count": 27,
      "outputs": []
    },
    {
      "cell_type": "code",
      "metadata": {
        "id": "EwxuTr8fUhK8"
      },
      "source": [
        "class ResidualBottleneckModule(nn.Module):\r\n",
        "\r\n",
        "    def __init__(self):\r\n",
        "        \r\n",
        "        super(ResidualBottleneckModule, self).__init__()\r\n",
        "        self.bn_0 = nn.BatchNorm2d(13)\r\n",
        "        self.relu_0 = nn.ReLU()\r\n",
        "        \r\n",
        "        self.conv_1x1_0 = nn.Conv2d(in_channels=13, out_channels=193, kernel_size=1, stride=1)\r\n",
        "\r\n",
        "        self.bn_1 = nn.BatchNorm2d(193)\r\n",
        "        self.relu_1 = nn.ReLU()\r\n",
        "\r\n",
        "        self.conv_3x3_0 = nn.Conv2d(in_channels=193, out_channels=193, kernel_size=3, stride=2, padding=1)\r\n",
        "\r\n",
        "        self.bn_2 = nn.BatchNorm2d(193)\r\n",
        "        self.relu_2 = nn.ReLU()\r\n",
        "\r\n",
        "        self.conv_1x1_1 = nn.Conv2d(in_channels=193, out_channels=193, kernel_size=1, stride=1)\r\n",
        "\r\n",
        "        self.conv_3x3_1 = nn.Conv2d(in_channels=13, out_channels=193, kernel_size=3, stride=2, padding=1)\r\n",
        "\r\n",
        "    def forward(self, input_batch):\r\n",
        "\r\n",
        "        x_bn_0 = self.bn_0(input_batch)\r\n",
        "        x_relu_0 = self.relu_0(x_bn_0)\r\n",
        "        x_conv_3x3_1 = self.conv_3x3_1(x_relu_0)\r\n",
        "\r\n",
        "        x = self.conv_1x1_0(x_relu_0)\r\n",
        "        \r\n",
        "        x = self.bn_1(x)\r\n",
        "        x = self.relu_1(x)\r\n",
        "        \r\n",
        "        x = self.conv_3x3_0(x)\r\n",
        "        \r\n",
        "        x = self.bn_2(x)\r\n",
        "        x = self.relu_2(x)\r\n",
        "\r\n",
        "        x = self.conv_1x1_1(x)\r\n",
        "\r\n",
        "        output = x_conv_3x3_1 + x\r\n",
        "\r\n",
        "        return output"
      ],
      "execution_count": 28,
      "outputs": []
    },
    {
      "cell_type": "code",
      "metadata": {
        "id": "pImiVduLs64y"
      },
      "source": [
        "class BottleneckReductionModule(nn.Module):\r\n",
        "\r\n",
        "    def __init__(self):\r\n",
        "\r\n",
        "        super(BottleneckReductionModule, self).__init__()\r\n",
        "\r\n",
        "        self.conv_3x3_0 = nn.Conv2d(in_channels=13, out_channels=193, kernel_size=3, stride=8)\r\n",
        "        self.relu_0 = nn.ReLU()\r\n",
        "        self.conv_1x1 = nn.Conv2d(in_channels=193, out_channels=193, kernel_size=1, stride=1)\r\n",
        "        self.relu_1 = nn.ReLU()\r\n",
        "        self.conv_3x3_1 = nn.Conv2d(in_channels=193, out_channels=193, kernel_size=3, stride=1, padding=1)\r\n",
        "\r\n",
        "    def forward(self, input_batch):\r\n",
        "\r\n",
        "        x = self.conv_3x3_0(input_batch)\r\n",
        "\r\n",
        "        x = self.relu_0(x)\r\n",
        "        x = self.conv_1x1(x)\r\n",
        "        x = self.relu_1(x)\r\n",
        "        x = self.conv_3x3_1(x)\r\n",
        "\r\n",
        "        return x"
      ],
      "execution_count": 29,
      "outputs": []
    },
    {
      "cell_type": "code",
      "metadata": {
        "id": "L02CN3tKwBjF"
      },
      "source": [
        "class RefineModule(nn.Module):\r\n",
        "\r\n",
        "    def __init__(self, in_channels, out_channels):\r\n",
        "\r\n",
        "        super(RefineModule, self).__init__()\r\n",
        "        \r\n",
        "        self.conv_1x1_0 = nn.Conv2d(in_channels, out_channels, kernel_size=1, stride=1)\r\n",
        "        self.conv_1x1_1 = nn.Conv2d(out_channels, out_channels, kernel_size=1, stride=1)\r\n",
        "        self.relu_0 = nn.ReLU()\r\n",
        "        self.conv_3x3_0 = nn.Conv2d(out_channels, out_channels, kernel_size=3, stride=1, padding=1)\r\n",
        "        self.relu_1 = nn.ReLU()\r\n",
        "        self.conv_3x3_1 = nn.Conv2d(out_channels, out_channels, kernel_size=3, stride=1, padding=1)\r\n",
        "\r\n",
        "    def forward(self, input_batch):\r\n",
        "\r\n",
        "        x_conv_1x1_0 = self.conv_1x1_0(input_batch)\r\n",
        "\r\n",
        "        x = self.conv_1x1_1(x_conv_1x1_0)\r\n",
        "        x = self.relu_0(x)\r\n",
        "        x = self.conv_3x3_0(x)\r\n",
        "        x = self.relu_1(x)\r\n",
        "        x = self.conv_3x3_1(x)\r\n",
        "\r\n",
        "        return x + x_conv_1x1_0"
      ],
      "execution_count": 30,
      "outputs": []
    },
    {
      "cell_type": "code",
      "metadata": {
        "id": "mLLnNYoQ6e5k"
      },
      "source": [
        "class BilinearResizeModule(nn.Module):\r\n",
        "\r\n",
        "    def __init__(self, scale_factor):\r\n",
        "\r\n",
        "        super(BilinearResizeModule, self).__init__()\r\n",
        "\r\n",
        "        self.upsample = nn.UpsamplingBilinear2d(scale_factor=scale_factor)\r\n",
        "\r\n",
        "    def forward(self, input_batch):\r\n",
        "\r\n",
        "        x = self.upsample(input_batch)\r\n",
        "        return x"
      ],
      "execution_count": 31,
      "outputs": []
    },
    {
      "cell_type": "code",
      "metadata": {
        "id": "ZmDvf9fc7RYE"
      },
      "source": [
        "class EdgeSegNet(nn.Module):\r\n",
        "\r\n",
        "    def __init__(self):\r\n",
        "\r\n",
        "        super(EdgeSegNet, self).__init__()\r\n",
        "\r\n",
        "        self.conv_7x7 = nn.Conv2d(in_channels=3, out_channels=13, kernel_size=7, stride=2, padding=3)\r\n",
        "        self.maxpool = nn.MaxPool2d(kernel_size=3, stride=2, padding=1)\r\n",
        "\r\n",
        "        # Top part of the graph, before the first addition of (32, 32, 193)\r\n",
        "        self.bottleneck_module = BottleneckReductionModule()\r\n",
        "        self.bilinear_resize_x2_0 = BilinearResizeModule(scale_factor=2)\r\n",
        "\r\n",
        "        # Bottom part of the graph, before the first addition of (32, 32, 193)\r\n",
        "        self.residual_module = ResidualBottleneckModule()\r\n",
        "        self.refine_module_0 = RefineModule(in_channels=193, out_channels=193)\r\n",
        "\r\n",
        "        # Top part of the graph, after the first addition of (32, 32, 193)\r\n",
        "        self.refine_module_1 = RefineModule(in_channels=193, out_channels=217)\r\n",
        "        self.bilinear_resize_x2_1 = BilinearResizeModule(scale_factor=2)\r\n",
        "\r\n",
        "        # Bottom part of the graph, maxpool to (64, 64, 217) addition\r\n",
        "        self.refine_module_2 = RefineModule(in_channels=13, out_channels=217)\r\n",
        "\r\n",
        "        # After the (64, 64, 217) addition\r\n",
        "        self.refine_module_3 = RefineModule(in_channels=217, out_channels=217)\r\n",
        "        self.bilinear_resize_x4 = BilinearResizeModule(scale_factor=4)\r\n",
        "        self.conv_1x1 = nn.Conv2d(in_channels=217, out_channels=32, kernel_size=1, stride=1)\r\n",
        "\r\n",
        "    def forward(self, input_batch):\r\n",
        "        \r\n",
        "        x_conv_7x7 = self.conv_7x7(input_batch)\r\n",
        "        x_maxpool = self.maxpool(x_conv_7x7)\r\n",
        "\r\n",
        "        x_top = self.bottleneck_module(x_conv_7x7)\r\n",
        "        x_top = self.bilinear_resize_x2_0(x_top)\r\n",
        "\r\n",
        "        x_bottom = self.residual_module(x_maxpool)\r\n",
        "        x_bottom = self.refine_module_0(x_bottom)\r\n",
        "\r\n",
        "        # (32, 32, 193) addition\r\n",
        "        x_top = x_top + x_bottom\r\n",
        "        x_top = self.refine_module_1(x_top)\r\n",
        "        x_top = self.bilinear_resize_x2_1(x_top)\r\n",
        "\r\n",
        "        x_bottom = self.refine_module_2(x_maxpool)\r\n",
        "\r\n",
        "        # (64, 64, 217) addition\r\n",
        "        x_top = x_top + x_bottom\r\n",
        "\r\n",
        "        x_top = self.refine_module_3(x_top)\r\n",
        "        x_top = self.bilinear_resize_x4(x_top)\r\n",
        "        x_top = self.conv_1x1(x_top)\r\n",
        "\r\n",
        "        return x_top"
      ],
      "execution_count": 32,
      "outputs": []
    },
    {
      "cell_type": "code",
      "metadata": {
        "id": "zuwqZfvDz__c"
      },
      "source": [
        "def train_model(model,train_loader,validation_loader,optimizer,criterion,scheduler=None, n_epochs=4):\r\n",
        "    \r\n",
        "    accuracy_train_list = [0]\r\n",
        "    loss_train_list = [float(\"inf\")]\r\n",
        "\r\n",
        "    accuracy_val_list = [0]\r\n",
        "    loss_val_list = [float(\"inf\")]\r\n",
        "    train_batch_size = None\r\n",
        "    val_batch_size = None\r\n",
        "    num_epoch_batches = 0\r\n",
        "    \r\n",
        "    for epoch in range(n_epochs):\r\n",
        "\r\n",
        "        progress_bar = tqdm.tqdm(train_loader,leave=True,position=0)\r\n",
        "\r\n",
        "        for batch_idx, batch in enumerate(progress_bar):\r\n",
        "\r\n",
        "            batch_loss = round(loss_train_list[-1], 4)\r\n",
        "            batch_acc = round(accuracy_train_list[-1], 4)\r\n",
        "            \r\n",
        "            batch_loss_val = round(loss_val_list[-1], 4)\r\n",
        "            batch_acc_val = round(accuracy_val_list[-1], 4)\r\n",
        "\r\n",
        "            stats_dict = {\r\n",
        "            'Batch Loss' : f\"{batch_loss} \",\r\n",
        "            'Acc' : f\"{batch_acc} \",\r\n",
        "            'Batch Loss Val' : f\"{batch_loss_val}\",\r\n",
        "            'Acc Val' : f\"{batch_acc_val}\"\r\n",
        "            }\r\n",
        "\r\n",
        "            progress_bar.set_description(f'Epoch {epoch} / {n_epochs}')\r\n",
        "            progress_bar.set_postfix(stats_dict)\r\n",
        "\r\n",
        "\r\n",
        "            images_batch, labels_batch = batch\r\n",
        "\r\n",
        "            optimizer.zero_grad()\r\n",
        "\r\n",
        "            model.train()\r\n",
        "            outputs_batch = model(images_batch)\r\n",
        "\r\n",
        "            # CrossEntropyLoss expects target of (batch, d0, ...) of class values with no channels\r\n",
        "            # outputs_batch of shape (batch, channel, d0, ...) of logit values\r\n",
        "            _, labels_max = torch.max(labels_batch.data, 1)\r\n",
        "            loss = criterion(outputs_batch, labels_max.long())\r\n",
        "\r\n",
        "            loss.backward()\r\n",
        "            \r\n",
        "            if scheduler is not None:\r\n",
        "                scheduler.step()\r\n",
        "            else:\r\n",
        "                optimizer.step()\r\n",
        "\r\n",
        "            loss_train_list.append(torch.clone(loss).detach().item())\r\n",
        "\r\n",
        "            correct = 0.\r\n",
        "            total = 0.\r\n",
        "            with torch.no_grad():\r\n",
        "                for batch in train_loader:\r\n",
        "                    images, labels = batch\r\n",
        "                    model.eval()\r\n",
        "                    outputs = model(images)\r\n",
        "                    total += labels.size(0) * 256 * 256\r\n",
        "\r\n",
        "                    _, predicted = torch.max(nn.functional.softmax(outputs, dim=1).data, 1)\r\n",
        "                    _, labels = torch.max(labels.data, 1)\r\n",
        "                    \r\n",
        "                    correct += (predicted == labels).sum().item()\r\n",
        "            \r\n",
        "            accuracy_train_list.append(correct/total)\r\n",
        "\r\n",
        "        for batch in validation_loader:\r\n",
        "\r\n",
        "            images_batch, labels_batch = batch\r\n",
        "\r\n",
        "            optimizer.zero_grad()\r\n",
        "\r\n",
        "            model.train()\r\n",
        "            outputs_batch = model(images_batch)\r\n",
        "\r\n",
        "            # CrossEntropyLoss expects target of (batch, d0, ...) of class values with no channels\r\n",
        "            # outputs_batch of shape (batch, channel, d0, ...) of logit values\r\n",
        "            _, labels_max = torch.max(labels_batch.data, 1)\r\n",
        "            loss = criterion(outputs_batch, labels_max.long())\r\n",
        "\r\n",
        "            # No backward, No optim.step\r\n",
        "\r\n",
        "            loss_val_list.append(torch.clone(loss).detach().item())\r\n",
        "\r\n",
        "            correct = 0.\r\n",
        "            total = 0.\r\n",
        "            with torch.no_grad():\r\n",
        "                for batch in validation_loader:\r\n",
        "                    images, labels = batch\r\n",
        "                    model.eval()\r\n",
        "                    outputs = model(images)\r\n",
        "                    total += labels.size(0) * 256 * 256\r\n",
        "\r\n",
        "                    _, predicted = torch.max(nn.functional.softmax(outputs, dim=1).data, 1)\r\n",
        "                    _, labels = torch.max(labels.data, 1)\r\n",
        "                    \r\n",
        "                    correct += (predicted == labels).sum().item()\r\n",
        "            \r\n",
        "            accuracy_val_list.append(correct/total)\r\n",
        "\r\n",
        "    return loss_train_list, accuracy_train_list, loss_val_list, accuracy_val_list"
      ],
      "execution_count": 33,
      "outputs": []
    },
    {
      "cell_type": "code",
      "metadata": {
        "id": "UNtYaA8jVPJq"
      },
      "source": [
        "dataset = CamSeqDataset(\"./CamSeq01\")\r\n",
        "\r\n",
        "# We can provide class weights to CrossEntropyLoss \r\n",
        "# to discourage bias for over-represented (majority of pixels) classes (ex. sky, road ..)\r\n",
        "\r\n",
        "class_weights_loader = torch.utils.data.DataLoader(dataset, batch_size=101)\r\n",
        "dataset_labels = next(iter(class_weights_loader))[1]\r\n",
        "class_representation_sum = dataset_labels.sum(dim=0).sum(dim=1).sum(dim=1)\r\n",
        "dataset_labels = None\r\n",
        "total_pixels = class_representation_sum.sum()\r\n",
        "class_weights = class_representation_sum/total_pixels\r\n",
        "\r\n",
        "###################################### DataLoaders ########################################\r\n",
        "train_set, val_set = torch.utils.data.random_split(dataset, [71, 30])\r\n",
        "\r\n",
        "train_loader = torch.utils.data.DataLoader(train_set, batch_size=16, shuffle=True)\r\n",
        "test_loader = torch.utils.data.DataLoader(val_set, batch_size=16, shuffle=True)\r\n",
        "\r\n",
        "####################################### Model ########################################\r\n",
        "model = EdgeSegNet()\r\n",
        "model.to(device)\r\n",
        "\r\n",
        "optimizer = torch.optim.Adam(model.parameters(),lr=0.001)\r\n",
        "scheduler = torch.optim.lr_scheduler.StepLR(optimizer, step_size=30, gamma=0.95)\r\n",
        "\r\n",
        "criterion = nn.CrossEntropyLoss(weight=class_weights)\r\n",
        "\r\n",
        "global_loss_train_list = []\r\n",
        "global_accuracy_train_list = []\r\n",
        "\r\n",
        "global_loss_val_list = []\r\n",
        "global_accuracy_val_list = []"
      ],
      "execution_count": 35,
      "outputs": []
    },
    {
      "cell_type": "code",
      "metadata": {
        "colab": {
          "base_uri": "https://localhost:8080/"
        },
        "id": "WiwzeDiL0aYb",
        "outputId": "f6adf208-5114-44bc-f4f1-b01cf1dffc74"
      },
      "source": [
        "loss_train_list, accuracy_train_list, loss_val_list, accuracy_val_list = train_model(\r\n",
        "    model, \r\n",
        "    train_loader, \r\n",
        "    test_loader, \r\n",
        "    optimizer, \r\n",
        "    criterion, \r\n",
        "    n_epochs=50\r\n",
        ")\r\n",
        "\r\n",
        "global_loss_train_list.extend(loss_train_list)\r\n",
        "global_accuracy_train_list.extend(accuracy_train_list)\r\n",
        "\r\n",
        "global_loss_val_list.extend(loss_val_list)\r\n",
        "global_accuracy_val_list.extend(accuracy_val_list)"
      ],
      "execution_count": 36,
      "outputs": [
        {
          "output_type": "stream",
          "text": [
            "Epoch 0 / 50: 100%|██████████| 5/5 [00:03<00:00,  1.29it/s, Batch Loss=20.7776, Acc=0.5692, Batch Loss Val=inf, Acc Val=0]\n",
            "Epoch 1 / 50: 100%|██████████| 5/5 [00:03<00:00,  1.31it/s, Batch Loss=3.3978, Acc=0.5561, Batch Loss Val=6.3346, Acc Val=0.4434]\n",
            "Epoch 2 / 50: 100%|██████████| 5/5 [00:03<00:00,  1.31it/s, Batch Loss=2.0285, Acc=0.6737, Batch Loss Val=2.0389, Acc Val=0.6396]\n",
            "Epoch 3 / 50: 100%|██████████| 5/5 [00:03<00:00,  1.31it/s, Batch Loss=1.134, Acc=0.6344, Batch Loss Val=1.4106, Acc Val=0.6401]\n",
            "Epoch 4 / 50: 100%|██████████| 5/5 [00:03<00:00,  1.31it/s, Batch Loss=0.9793, Acc=0.6693, Batch Loss Val=1.0566, Acc Val=0.6732]\n",
            "Epoch 5 / 50: 100%|██████████| 5/5 [00:03<00:00,  1.31it/s, Batch Loss=0.7866, Acc=0.7034, Batch Loss Val=0.8837, Acc Val=0.6831]\n",
            "Epoch 6 / 50: 100%|██████████| 5/5 [00:03<00:00,  1.31it/s, Batch Loss=0.5906, Acc=0.7184, Batch Loss Val=0.6824, Acc Val=0.7099]\n",
            "Epoch 7 / 50: 100%|██████████| 5/5 [00:03<00:00,  1.32it/s, Batch Loss=0.5236, Acc=0.7395, Batch Loss Val=0.5756, Acc Val=0.729]\n",
            "Epoch 8 / 50: 100%|██████████| 5/5 [00:03<00:00,  1.31it/s, Batch Loss=0.4326, Acc=0.7619, Batch Loss Val=0.4901, Acc Val=0.7466]\n",
            "Epoch 9 / 50: 100%|██████████| 5/5 [00:03<00:00,  1.31it/s, Batch Loss=0.3791, Acc=0.7764, Batch Loss Val=0.4476, Acc Val=0.7565]\n",
            "Epoch 10 / 50: 100%|██████████| 5/5 [00:03<00:00,  1.31it/s, Batch Loss=0.3507, Acc=0.7857, Batch Loss Val=0.4019, Acc Val=0.774]\n",
            "Epoch 11 / 50: 100%|██████████| 5/5 [00:03<00:00,  1.31it/s, Batch Loss=0.3448, Acc=0.7932, Batch Loss Val=0.3575, Acc Val=0.7886]\n",
            "Epoch 12 / 50: 100%|██████████| 5/5 [00:03<00:00,  1.32it/s, Batch Loss=0.3036, Acc=0.7952, Batch Loss Val=0.3114, Acc Val=0.7837]\n",
            "Epoch 13 / 50: 100%|██████████| 5/5 [00:03<00:00,  1.31it/s, Batch Loss=0.2527, Acc=0.8211, Batch Loss Val=0.3151, Acc Val=0.7887]\n",
            "Epoch 14 / 50: 100%|██████████| 5/5 [00:03<00:00,  1.31it/s, Batch Loss=0.2516, Acc=0.8189, Batch Loss Val=0.2822, Acc Val=0.8142]\n",
            "Epoch 15 / 50: 100%|██████████| 5/5 [00:03<00:00,  1.32it/s, Batch Loss=0.225, Acc=0.8275, Batch Loss Val=0.2903, Acc Val=0.8298]\n",
            "Epoch 16 / 50: 100%|██████████| 5/5 [00:03<00:00,  1.31it/s, Batch Loss=0.2218, Acc=0.8382, Batch Loss Val=0.2561, Acc Val=0.8221]\n",
            "Epoch 17 / 50: 100%|██████████| 5/5 [00:03<00:00,  1.31it/s, Batch Loss=0.2048, Acc=0.8557, Batch Loss Val=0.2244, Acc Val=0.8289]\n",
            "Epoch 18 / 50: 100%|██████████| 5/5 [00:03<00:00,  1.31it/s, Batch Loss=0.1982, Acc=0.8563, Batch Loss Val=0.2274, Acc Val=0.8409]\n",
            "Epoch 19 / 50: 100%|██████████| 5/5 [00:03<00:00,  1.32it/s, Batch Loss=0.1981, Acc=0.8552, Batch Loss Val=0.2017, Acc Val=0.8439]\n",
            "Epoch 20 / 50: 100%|██████████| 5/5 [00:03<00:00,  1.31it/s, Batch Loss=0.1927, Acc=0.8625, Batch Loss Val=0.2133, Acc Val=0.8463]\n",
            "Epoch 21 / 50: 100%|██████████| 5/5 [00:03<00:00,  1.32it/s, Batch Loss=0.1671, Acc=0.8725, Batch Loss Val=0.2079, Acc Val=0.8568]\n",
            "Epoch 22 / 50: 100%|██████████| 5/5 [00:03<00:00,  1.31it/s, Batch Loss=0.1739, Acc=0.8697, Batch Loss Val=0.1994, Acc Val=0.8621]\n",
            "Epoch 23 / 50: 100%|██████████| 5/5 [00:03<00:00,  1.31it/s, Batch Loss=0.1526, Acc=0.8657, Batch Loss Val=0.1827, Acc Val=0.8589]\n",
            "Epoch 24 / 50: 100%|██████████| 5/5 [00:03<00:00,  1.31it/s, Batch Loss=0.1727, Acc=0.8652, Batch Loss Val=0.2005, Acc Val=0.8624]\n",
            "Epoch 25 / 50: 100%|██████████| 5/5 [00:03<00:00,  1.32it/s, Batch Loss=0.1583, Acc=0.8632, Batch Loss Val=0.1856, Acc Val=0.8504]\n",
            "Epoch 26 / 50: 100%|██████████| 5/5 [00:03<00:00,  1.31it/s, Batch Loss=0.1712, Acc=0.872, Batch Loss Val=0.2017, Acc Val=0.8519]\n",
            "Epoch 27 / 50: 100%|██████████| 5/5 [00:03<00:00,  1.31it/s, Batch Loss=0.1477, Acc=0.8822, Batch Loss Val=0.1767, Acc Val=0.8631]\n",
            "Epoch 28 / 50: 100%|██████████| 5/5 [00:03<00:00,  1.32it/s, Batch Loss=0.1494, Acc=0.883, Batch Loss Val=0.1692, Acc Val=0.8737]\n",
            "Epoch 29 / 50: 100%|██████████| 5/5 [00:03<00:00,  1.31it/s, Batch Loss=0.151, Acc=0.8899, Batch Loss Val=0.1708, Acc Val=0.8773]\n",
            "Epoch 30 / 50: 100%|██████████| 5/5 [00:03<00:00,  1.31it/s, Batch Loss=0.1364, Acc=0.8886, Batch Loss Val=0.1571, Acc Val=0.8784]\n",
            "Epoch 31 / 50: 100%|██████████| 5/5 [00:03<00:00,  1.31it/s, Batch Loss=0.1385, Acc=0.8942, Batch Loss Val=0.1658, Acc Val=0.8775]\n",
            "Epoch 32 / 50: 100%|██████████| 5/5 [00:03<00:00,  1.32it/s, Batch Loss=0.1383, Acc=0.8928, Batch Loss Val=0.1594, Acc Val=0.8751]\n",
            "Epoch 33 / 50: 100%|██████████| 5/5 [00:03<00:00,  1.31it/s, Batch Loss=0.1302, Acc=0.8933, Batch Loss Val=0.1541, Acc Val=0.8757]\n",
            "Epoch 34 / 50: 100%|██████████| 5/5 [00:03<00:00,  1.31it/s, Batch Loss=0.1261, Acc=0.8975, Batch Loss Val=0.1442, Acc Val=0.8795]\n",
            "Epoch 35 / 50: 100%|██████████| 5/5 [00:03<00:00,  1.31it/s, Batch Loss=0.131, Acc=0.9011, Batch Loss Val=0.1427, Acc Val=0.8853]\n",
            "Epoch 36 / 50: 100%|██████████| 5/5 [00:03<00:00,  1.31it/s, Batch Loss=0.1211, Acc=0.9003, Batch Loss Val=0.1483, Acc Val=0.8845]\n",
            "Epoch 37 / 50: 100%|██████████| 5/5 [00:03<00:00,  1.31it/s, Batch Loss=0.1118, Acc=0.9032, Batch Loss Val=0.1242, Acc Val=0.8872]\n",
            "Epoch 38 / 50: 100%|██████████| 5/5 [00:03<00:00,  1.32it/s, Batch Loss=0.1179, Acc=0.9032, Batch Loss Val=0.1367, Acc Val=0.8876]\n",
            "Epoch 39 / 50: 100%|██████████| 5/5 [00:03<00:00,  1.32it/s, Batch Loss=0.1131, Acc=0.8987, Batch Loss Val=0.1437, Acc Val=0.8842]\n",
            "Epoch 40 / 50: 100%|██████████| 5/5 [00:03<00:00,  1.31it/s, Batch Loss=0.1095, Acc=0.9039, Batch Loss Val=0.14, Acc Val=0.8885]\n",
            "Epoch 41 / 50: 100%|██████████| 5/5 [00:03<00:00,  1.31it/s, Batch Loss=0.1144, Acc=0.9082, Batch Loss Val=0.1464, Acc Val=0.8948]\n",
            "Epoch 42 / 50: 100%|██████████| 5/5 [00:03<00:00,  1.32it/s, Batch Loss=0.1068, Acc=0.9109, Batch Loss Val=0.1402, Acc Val=0.8955]\n",
            "Epoch 43 / 50: 100%|██████████| 5/5 [00:03<00:00,  1.31it/s, Batch Loss=0.1025, Acc=0.9072, Batch Loss Val=0.1331, Acc Val=0.8928]\n",
            "Epoch 44 / 50: 100%|██████████| 5/5 [00:03<00:00,  1.31it/s, Batch Loss=0.1026, Acc=0.9059, Batch Loss Val=0.1336, Acc Val=0.8879]\n",
            "Epoch 45 / 50: 100%|██████████| 5/5 [00:03<00:00,  1.31it/s, Batch Loss=0.1103, Acc=0.907, Batch Loss Val=0.1307, Acc Val=0.8937]\n",
            "Epoch 46 / 50: 100%|██████████| 5/5 [00:03<00:00,  1.31it/s, Batch Loss=0.1106, Acc=0.9104, Batch Loss Val=0.1495, Acc Val=0.8933]\n",
            "Epoch 47 / 50: 100%|██████████| 5/5 [00:03<00:00,  1.31it/s, Batch Loss=0.1004, Acc=0.9105, Batch Loss Val=0.1372, Acc Val=0.8948]\n",
            "Epoch 48 / 50: 100%|██████████| 5/5 [00:03<00:00,  1.31it/s, Batch Loss=0.096, Acc=0.9106, Batch Loss Val=0.1311, Acc Val=0.8941]\n",
            "Epoch 49 / 50: 100%|██████████| 5/5 [00:03<00:00,  1.31it/s, Batch Loss=0.1027, Acc=0.914, Batch Loss Val=0.1247, Acc Val=0.8935]\n"
          ],
          "name": "stderr"
        }
      ]
    },
    {
      "cell_type": "code",
      "metadata": {
        "colab": {
          "base_uri": "https://localhost:8080/",
          "height": 281
        },
        "id": "FqJDawdX4VNE",
        "outputId": "b8b70e0d-b180-49a5-d22c-b0a70170378e"
      },
      "source": [
        "# window = len(global_accuracy_train_list)\r\n",
        "# window = window - 1 if window % 2 == 0 else window\r\n",
        "# smooth_global_accuracy_train_list = savgol_filter(global_accuracy_train_list, window, 3)\r\n",
        "\r\n",
        "plt.subplot(2, 2, 1).set_title(\"Train Loss\")\r\n",
        "plt.plot(global_loss_train_list)\r\n",
        "\r\n",
        "plt.subplot(2, 2, 2).set_title(\"Val Loss\")\r\n",
        "plt.plot(global_loss_val_list)\r\n",
        "\r\n",
        "plt.subplot(2, 2, 3).set_title(\"Train Acc\")\r\n",
        "plt.plot(global_accuracy_train_list)\r\n",
        "\r\n",
        "plt.subplot(2, 2, 4).set_title(\"Vall Acc\")\r\n",
        "plt.plot(global_accuracy_val_list)\r\n",
        "\r\n",
        "plt.subplots_adjust(hspace=0.6, wspace=0.3)"
      ],
      "execution_count": 37,
      "outputs": [
        {
          "output_type": "display_data",
          "data": {
            "image/png": "[encoded data removed]",
            "text/plain": [
              "<Figure size 432x288 with 4 Axes>"
            ]
          },
          "metadata": {
            "tags": [],
            "needs_background": "light"
          }
        }
      ]
    },
    {
      "cell_type": "code",
      "metadata": {
        "id": "vmQDZ_M7mxCo"
      },
      "source": [
        "def semantic_to_rgb(labeld_image):\r\n",
        "\r\n",
        "    max_idx = torch.argmax(labeld_image, 0, keepdim=True)\r\n",
        "    max_idx.shape\r\n",
        "    rgb_img = np.zeros((256, 256, 3))\r\n",
        "\r\n",
        "    for i, class_color in enumerate(segmentation_classes_colors):\r\n",
        "\r\n",
        "        class_pixels = torch.eq(max_idx, torch.tensor([i]).to(device))\r\n",
        "        rgb_img[:, :, :3][class_pixels.squeeze(0).cpu().detach().numpy()] = class_color\r\n",
        "    return rgb_img"
      ],
      "execution_count": 39,
      "outputs": []
    },
    {
      "cell_type": "code",
      "metadata": {
        "colab": {
          "base_uri": "https://localhost:8080/",
          "height": 179
        },
        "id": "Zw_DMDvis6RJ",
        "outputId": "74cae956-0a08-4d52-bb83-dc00745f7b7a"
      },
      "source": [
        "image, ture_label = dataset[100]\r\n",
        "\r\n",
        "model.eval()\r\n",
        "\r\n",
        "label = model(image.unsqueeze(0))\r\n",
        "label = nn.functional.softmax(label, dim=1).squeeze(0)\r\n",
        "\r\n",
        "rgb_img = semantic_to_rgb(label)\r\n",
        "\r\n",
        "np_image = image.permute(1,2,0).cpu().detach().numpy()\r\n",
        "plt.subplot(1, 3, 1)\r\n",
        "plt.imshow(np_image.astype(np.uint8))\r\n",
        "\r\n",
        "plt.subplot(1, 3, 2).set_title(\"Pred\")\r\n",
        "\r\n",
        "plt.imshow((rgb_img).astype(np.uint8))\r\n",
        "\r\n",
        "plt.subplot(1, 3, 3).set_title(\"Truth\")\r\n",
        "\r\n",
        "rgb_img = semantic_to_rgb(ture_label)\r\n",
        "\r\n",
        "plt.imshow((rgb_img).astype(np.uint8))\r\n"
      ],
      "execution_count": 40,
      "outputs": [
        {
          "output_type": "execute_result",
          "data": {
            "text/plain": [
              "<matplotlib.image.AxesImage at 0x7f22609fa6d8>"
            ]
          },
          "metadata": {
            "tags": []
          },
          "execution_count": 40
        },
        {
          "output_type": "display_data",
          "data": {
            "image/png": "[encoded data removed]",
            "text/plain": [
              "<Figure size 432x288 with 3 Axes>"
            ]
          },
          "metadata": {
            "tags": [],
            "needs_background": "light"
          }
        }
      ]
    },
    {
      "cell_type": "code",
      "metadata": {
        "id": "a3JfWbrQ_bUs"
      },
      "source": [
        ""
      ],
      "execution_count": null,
      "outputs": []
    }
  ]
}